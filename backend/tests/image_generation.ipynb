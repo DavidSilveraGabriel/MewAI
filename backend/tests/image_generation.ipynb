{
 "cells": [
  {
   "cell_type": "code",
   "execution_count": 1,
   "metadata": {},
   "outputs": [
    {
     "name": "stderr",
     "output_type": "stream",
     "text": [
      "c:\\Users\\ingen\\Desktop\\CrewAI\\MewAI\\venv\\lib\\site-packages\\tqdm\\auto.py:21: TqdmWarning: IProgress not found. Please update jupyter and ipywidgets. See https://ipywidgets.readthedocs.io/en/stable/user_install.html\n",
      "  from .autonotebook import tqdm as notebook_tqdm\n"
     ]
    },
    {
     "name": "stdout",
     "output_type": "stream",
     "text": [
      "Loaded as API: https://black-forest-labs-flux-1-schnell.hf.space ✔\n",
      "('C:\\\\Users\\\\ingen\\\\AppData\\\\Local\\\\Temp\\\\gradio\\\\d5174cf39c7a1957d3e47aa4dedfc21abb2d8b2c89dc5bca9ac6abd6c2e5ff46\\\\image.webp', 1418039045)\n"
     ]
    }
   ],
   "source": [
    "from gradio_client import Client\n",
    "\n",
    "client = Client(\"black-forest-labs/FLUX.1-schnell\")\n",
    "result = client.predict(\n",
    "\t\tprompt=\"Create a tiny bot writing code, hiperrealism, 4k, unreal engine\",\n",
    "\t\tseed=0,\n",
    "\t\trandomize_seed=True,\n",
    "\t\twidth=1024,\n",
    "\t\theight=1024,\n",
    "\t\tnum_inference_steps=4,\n",
    "\t\tapi_name=\"/infer\"\n",
    ")\n",
    "print(result)"
   ]
  }
 ],
 "metadata": {
  "kernelspec": {
   "display_name": "venv",
   "language": "python",
   "name": "python3"
  },
  "language_info": {
   "codemirror_mode": {
    "name": "ipython",
    "version": 3
   },
   "file_extension": ".py",
   "mimetype": "text/x-python",
   "name": "python",
   "nbconvert_exporter": "python",
   "pygments_lexer": "ipython3",
   "version": "3.10.4"
  }
 },
 "nbformat": 4,
 "nbformat_minor": 2
}
